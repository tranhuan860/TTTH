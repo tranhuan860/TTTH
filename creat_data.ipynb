{
 "cells": [
  {
   "cell_type": "code",
   "execution_count": 2,
   "metadata": {},
   "outputs": [
    {
     "name": "stdout",
     "output_type": "stream",
     "text": [
      "Dữ liệu đã được tạo và lưu vào các file CSV!\n"
     ]
    }
   ],
   "source": [
    "import numpy as np\n",
    "import pandas as pd\n",
    "import random\n",
    "import os\n",
    "\n",
    "# Số lượng hoạt động và ca làm việc\n",
    "num_activities = 100\n",
    "num_shifts = 20\n",
    "\n",
    "folder_path = f'{num_activities}_{num_shifts}'\n",
    "if not os.path.exists(folder_path):\n",
    "    os.mkdir(folder_path)\n",
    "\n",
    "# Tọa độ của các địa điểm (bao gồm cơ sở chính)\n",
    "locations = [(random.randint(0, 100), random.randint(0, 100)) for _ in range(num_activities + 1)]\n",
    "base_location = locations[0]  # Cơ sở chính\n",
    "\n",
    "# Tính toán thời gian di chuyển (giả sử vận tốc cố định, khoảng cách Euclidean)\n",
    "def calculate_travel_time(loc1, loc2, speed=1):\n",
    "    return int(np.linalg.norm(np.array(loc1) - np.array(loc2)) / speed)\n",
    "\n",
    "travel_times = np.array([\n",
    "    [calculate_travel_time(loc1, loc2) for loc2 in locations]\n",
    "    for loc1 in locations\n",
    "])\n",
    "\n",
    "# Yêu cầu trình độ (0: không phù hợp, 1: phù hợp)\n",
    "qualification_matrix = np.random.randint(0, 2, size=(num_activities, num_shifts))\n",
    "\n",
    "# Khung thời gian cho các hoạt động\n",
    "time_windows = [(random.randint(0, 500), random.randint(0, 500)) for _ in range(num_activities)]\n",
    "time_windows = [(int(abs(i[0]-i[1])/2), int(i[0]+i[1])/2) for i in time_windows]\n",
    "\n",
    "# Thời gian phục vụ cho mỗi hoạt động\n",
    "service_times = [random.randint(10, 30) for _ in range(num_activities)]\n",
    "\n",
    "# Thời gian tối đa cho mỗi ca làm việc\n",
    "max_shift_durations = [random.randint(60, 120) for _ in range(num_shifts)]\n",
    "\n",
    "# Tạo các DataFrame\n",
    "locations_df = pd.DataFrame(locations, columns=[\"x\", \"y\"])\n",
    "travel_times_df = pd.DataFrame(travel_times)\n",
    "qualification_matrix_df = pd.DataFrame(qualification_matrix)\n",
    "time_windows_df = pd.DataFrame(time_windows, columns=[\"start_time\", \"end_time\"])\n",
    "service_times_df = pd.DataFrame(service_times, columns=[\"service_time\"])\n",
    "shift_durations_df = pd.DataFrame(max_shift_durations, columns=[\"max_duration\"])\n",
    "\n",
    "# Xuất ra file CSV\n",
    "locations_df.to_csv(folder_path+ \"/locations.csv\", index=False)\n",
    "travel_times_df.to_csv(folder_path+ \"/travel_times.csv\", index=False)\n",
    "qualification_matrix_df.to_csv(folder_path+ \"/qualification_matrix.csv\", index=False)\n",
    "time_windows_df.to_csv(folder_path+ \"/time_windows.csv\", index=False)\n",
    "service_times_df.to_csv(folder_path+ \"/service_times.csv\", index=False)\n",
    "shift_durations_df.to_csv(folder_path+ \"/max_shift_durations.csv\", index=False)\n",
    "\n",
    "print(\"Dữ liệu đã được tạo và lưu vào các file CSV!\")"
   ]
  }
 ],
 "metadata": {
  "kernelspec": {
   "display_name": "Python 3",
   "language": "python",
   "name": "python3"
  },
  "language_info": {
   "codemirror_mode": {
    "name": "ipython",
    "version": 3
   },
   "file_extension": ".py",
   "mimetype": "text/x-python",
   "name": "python",
   "nbconvert_exporter": "python",
   "pygments_lexer": "ipython3",
   "version": "3.12.4"
  }
 },
 "nbformat": 4,
 "nbformat_minor": 2
}
